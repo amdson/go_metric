{
 "cells": [
  {
   "cell_type": "code",
   "execution_count": 1,
   "metadata": {},
   "outputs": [],
   "source": [
    "%load_ext autoreload\n",
    "%autoreload 2"
   ]
  },
  {
   "cell_type": "code",
   "execution_count": 2,
   "metadata": {},
   "outputs": [],
   "source": [
    "from scipy.sparse import csc_matrix\n",
    "import numpy as np\n",
    "import torch"
   ]
  },
  {
   "cell_type": "code",
   "execution_count": 4,
   "metadata": {},
   "outputs": [],
   "source": [
    "from go_metric.data_utils import TermDataset, TermSampler, BertSeqDataset\n",
    "train_path = \"/home/andrew/go_metric/data/go_bench\"\n",
    "train_dataset = BertSeqDataset.from_pickle(f\"{train_path}/train.pkl\")\n",
    "val_dataset = BertSeqDataset.from_pickle(f\"{train_path}/val.pkl\")\n",
    "test_dataset = BertSeqDataset.from_pickle(f\"{train_path}/test.pkl\")"
   ]
  },
  {
   "cell_type": "code",
   "execution_count": 5,
   "metadata": {},
   "outputs": [],
   "source": [
    "import torch.utils.data as data\n",
    "import torch\n",
    "import numpy as np\n",
    "from go_metric.data_utils import get_bert_seq_collator\n",
    "collator = get_bert_seq_collator(max_length=1024)\n",
    "\n",
    "term_dataset = TermDataset.from_pickle(\"/home/andrew/go_metric/data/go_bench/train.pkl\")\n",
    "labels = torch.BoolTensor(term_dataset.seq_dataset.labels.todense())\n",
    "term_sampler = TermSampler(labels, 50000)\n",
    "\n",
    "dl = data.DataLoader(term_dataset, sampler=term_sampler, batch_size=128, collate_fn=collator)"
   ]
  },
  {
   "cell_type": "code",
   "execution_count": null,
   "metadata": {},
   "outputs": [],
   "source": []
  }
 ],
 "metadata": {
  "kernelspec": {
   "display_name": "gometric",
   "language": "python",
   "name": "python3"
  },
  "language_info": {
   "codemirror_mode": {
    "name": "ipython",
    "version": 3
   },
   "file_extension": ".py",
   "mimetype": "text/x-python",
   "name": "python",
   "nbconvert_exporter": "python",
   "pygments_lexer": "ipython3",
   "version": "3.9.16"
  },
  "orig_nbformat": 4,
  "vscode": {
   "interpreter": {
    "hash": "7df2d681486ede0e23f6c9a09a04b9af9594b1e316234d2fd023aad2ec40112e"
   }
  }
 },
 "nbformat": 4,
 "nbformat_minor": 2
}
