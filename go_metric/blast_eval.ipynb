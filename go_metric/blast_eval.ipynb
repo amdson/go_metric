{
 "cells": [
  {
   "cell_type": "code",
   "execution_count": 1,
   "metadata": {},
   "outputs": [],
   "source": [
    "import go_bench\n",
    "from go_bench.load_tools import load_GO_tsv_file, load_protein_sequences, convert_to_sparse_matrix\n",
    "import json\n",
    "import numpy as np\n",
    "import matplotlib.pyplot as plt"
   ]
  },
  {
   "cell_type": "code",
   "execution_count": 2,
   "metadata": {},
   "outputs": [],
   "source": [
    "train_dict = load_GO_tsv_file(\"../data/go_bench/training_molecular_function_annotations.tsv\")\n",
    "val_dict = load_GO_tsv_file(\"../data/go_bench/validation_molecular_function_annotations.tsv\")\n",
    "test_dict = load_GO_tsv_file(\"../data/go_bench/testing_molecular_function_annotations.tsv\")\n",
    "\n",
    "from Bio import SeqIO\n",
    "ps = [(train_dict, []), (val_dict, []), (test_dict, [])]\n",
    "for rec in SeqIO.parse(\"../data/uniprot_reviewed.fasta\", \"fasta\"):\n",
    "    rec.id = rec.id.split(\"|\")[1]\n",
    "    for d, l in ps:\n",
    "        if rec.id in d:\n",
    "            l.append(rec)\n",
    "\n",
    "with open(\"../data/prot_train.fasta\", \"w\") as f:\n",
    "    SeqIO.write(ps[0][1], f, \"fasta\")\n",
    "with open(\"../data/prot_val.fasta\", \"w\") as f:\n",
    "    SeqIO.write(ps[1][1], f, \"fasta\")\n",
    "with open(\"../data/prot_test.fasta\", \"w\") as f:\n",
    "    SeqIO.write(ps[2][1], f, \"fasta\")"
   ]
  },
  {
   "cell_type": "code",
   "execution_count": 22,
   "metadata": {},
   "outputs": [
    {
     "name": "stdout",
     "output_type": "stream",
     "text": [
      "865 6880\n",
      "(77671, 865) (16936, 865) (18852, 6880)\n"
     ]
    }
   ],
   "source": [
    "# sequences, prot_ids = load_protein_sequences(\"../data/uniprot_reviewed.fasta\")\n",
    "with open(\"../data/go_bench/molecular_function_terms.json\", 'r') as f:\n",
    "    go_terms = json.load(f)\n",
    "\n",
    "with open(\"../data/go_bench/testing_molecular_function_terms.json\", 'r') as f:\n",
    "    test_go_terms = json.load(f)\n",
    "\n",
    "print(len(go_terms), len(test_go_terms))\n",
    "\n",
    "train_ids, val_ids, test_ids = list(train_dict.keys()), list(val_dict.keys()), list(test_dict.keys())\n",
    "train_labels = convert_to_sparse_matrix(train_dict, go_terms, train_ids)\n",
    "val_labels = convert_to_sparse_matrix(val_dict, go_terms, val_ids)\n",
    "test_labels = convert_to_sparse_matrix(test_dict, test_go_terms, test_ids)\n",
    "print(train_labels.shape, val_labels.shape, test_labels.shape)"
   ]
  },
  {
   "cell_type": "code",
   "execution_count": 5,
   "metadata": {},
   "outputs": [],
   "source": [
    "def load_diamond_scores(hit_fn):\n",
    "    diamond_scores = {}\n",
    "    with open(hit_fn) as f:\n",
    "        for line in f:\n",
    "            it = line.strip().split()\n",
    "            if it[0] not in diamond_scores:\n",
    "                diamond_scores[it[0]] = {}\n",
    "            diamond_scores[it[0]][it[1]] = float(it[2])\n",
    "    return diamond_scores\n",
    "diamond_scores = load_diamond_scores(\"../data/blast_results/blast_hit_val.tsv\")\n",
    "test_diamond_scores = load_diamond_scores(\"../data/blast_results/blast_hit_test.tsv\")\n"
   ]
  },
  {
   "cell_type": "code",
   "execution_count": 18,
   "metadata": {},
   "outputs": [],
   "source": [
    "def blast_hit_to_pred(train_dict, diamond_scores, pred_ids):\n",
    "    blast_preds = {}\n",
    "    for prot_id in pred_ids:\n",
    "        annots = {}\n",
    "        if(prot_id in diamond_scores):\n",
    "            sim_prots = diamond_scores[prot_id] #Similar prots in training\n",
    "            allgos = set()\n",
    "            total_score = 0.0\n",
    "            for pid, score in sim_prots.items():\n",
    "                allgos |= set(train_dict[pid]) #GO Terms for each similar prot\n",
    "                total_score += score\n",
    "            allgos = list(sorted(allgos))\n",
    "            sim = np.zeros(len(allgos), dtype=np.float32)\n",
    "            for j, go_id in enumerate(allgos):\n",
    "                s = 0.0\n",
    "                for p_id, score in sim_prots.items():\n",
    "                    if go_id in train_dict[p_id]:\n",
    "                        s += score\n",
    "                sim[j] = s / total_score\n",
    "            for go_id, score in zip(allgos, sim):\n",
    "                annots[go_id] = score\n",
    "        blast_preds[prot_id] = annots\n",
    "    return blast_preds\n",
    "\n",
    "val_blast_preds = blast_hit_to_pred(train_dict, diamond_scores, val_ids)\n",
    "test_blast_preds = blast_hit_to_pred(train_dict, test_diamond_scores, test_ids)"
   ]
  },
  {
   "cell_type": "code",
   "execution_count": 19,
   "metadata": {},
   "outputs": [],
   "source": [
    "from scipy.sparse import csr_matrix, dok_matrix, lil_matrix\n",
    "def score_dict_to_sparse_matrix(protein_annotation_dict, term_list, prot_id_list):\n",
    "    term_col_mappings = {term:i for i, term in enumerate(term_list)}\n",
    "    prot_row_mappings = {prot:i for i, prot in enumerate(prot_id_list)}\n",
    "\n",
    "    labels = lil_matrix((len(prot_id_list), len(term_list)), dtype=np.float64)\n",
    "\n",
    "    for row, prot_id in enumerate(prot_id_list):\n",
    "        if(prot_id in protein_annotation_dict):\n",
    "            for go_id, score in protein_annotation_dict[prot_id].items():\n",
    "                if(go_id in term_col_mappings):\n",
    "                    labels[row, term_col_mappings[go_id]] = score\n",
    "    labels = labels.tocsr()\n",
    "    return labels\n",
    "\n",
    "val_blast_preds_matrix = score_dict_to_sparse_matrix(val_blast_preds, go_terms, val_ids)\n",
    "test_blast_preds_matrix = score_dict_to_sparse_matrix(test_blast_preds, test_go_terms, test_ids)\n"
   ]
  },
  {
   "cell_type": "code",
   "execution_count": 20,
   "metadata": {},
   "outputs": [
    {
     "name": "stdout",
     "output_type": "stream",
     "text": [
      "(16936, 865) (18852, 6880)\n"
     ]
    }
   ],
   "source": [
    "print(val_blast_preds_matrix.shape, test_blast_preds_matrix.shape)"
   ]
  },
  {
   "cell_type": "code",
   "execution_count": 23,
   "metadata": {},
   "outputs": [
    {
     "data": {
      "image/png": "[encoded data removed]",
      "text/plain": [
       "<Figure size 432x288 with 1 Axes>"
      ]
     },
     "metadata": {
      "needs_background": "light"
     },
     "output_type": "display_data"
    }
   ],
   "source": [
    "from sklearn.metrics import multilabel_confusion_matrix, precision_recall_fscore_support\n",
    "\n",
    "def threshold_stats(testing_matrix, prediction_matrix):\n",
    "    precs = []\n",
    "    recs = []\n",
    "    f_scores = []\n",
    "    rms = []\n",
    "    for threshold in np.linspace(0.001, 1, 100):\n",
    "        preds = prediction_matrix.copy()\n",
    "        preds.data = np.where(preds.data >= threshold, 1, 0)\n",
    "        preds.eliminate_zeros()\n",
    "        p, r, f, support = precision_recall_fscore_support(testing_matrix, preds, average='micro')\n",
    "        precs.append(p)\n",
    "        recs.append(r)\n",
    "        f_scores.append(f)\n",
    "        rms.append(r*r * preds.shape[0] * preds.shape[1] / preds.sum())\n",
    "    return precs, recs, f_scores, rms\n",
    "\n",
    "blast_precs, blast_recs, f_scores, rms = threshold_stats(val_labels, val_blast_preds_matrix)\n",
    "plt.plot(blast_precs, blast_recs)\n",
    "plt.title(f\"Val Blast (Max F1: {max(f_scores)})\")\n",
    "plt.show()\n",
    "\n",
    "# precs, recs, f_scores, rms = threshold_stats(test_labels, test_blast_preds_matrix)\n",
    "# plt.plot(precs, recs)\n",
    "# plt.title(f\"Test Blast (Max F1: {max(f_scores)})\")\n",
    "# plt.show()"
   ]
  },
  {
   "cell_type": "code",
   "execution_count": 15,
   "metadata": {},
   "outputs": [],
   "source": [
    "import pickle\n",
    "with open(\"eval/predictions/protbert_train_emb.pkl\", \"rb\") as f:\n",
    "    train_emb = pickle.load(f)\n",
    "with open(\"eval/predictions/protbert_val_emb.pkl\", \"rb\") as f:\n",
    "    val_emb = pickle.load(f)\n",
    "\n",
    "from go_metric.data_utils import *\n",
    "train_path = \"/home/andrew/go_metric/data/go_bench\"\n",
    "train_dataset = BertSeqDataset.from_pickle(f\"{train_path}/train.pkl\")\n",
    "val_dataset = BertSeqDataset.from_pickle(f\"{train_path}/val.pkl\")\n",
    "\n",
    "from go_metric.multilabel_knn import embedding_knn, embedding_wknn, get_embeddings\n",
    "device = torch.device('cuda:0')"
   ]
  },
  {
   "cell_type": "code",
   "execution_count": 30,
   "metadata": {},
   "outputs": [
    {
     "name": "stdout",
     "output_type": "stream",
     "text": [
      "77671\n",
      "77665\n"
     ]
    }
   ],
   "source": [
    "print(len(train_ids))\n",
    "print(len(set(train_emb[\"prot_ids\"]).intersection(set(train_ids))))"
   ]
  },
  {
   "cell_type": "code",
   "execution_count": 24,
   "metadata": {},
   "outputs": [],
   "source": [
    "\n",
    "train_labels, val_labels = train_dataset.labels, val_dataset.labels\n",
    "val_preds = embedding_knn(torch.tensor(train_emb[\"embeddings\"]).to(device), torch.tensor(val_emb[\"embeddings\"]).to(device), train_labels, k=2)\n",
    "from go_bench.metrics import calculate_ic, ic_mat\n",
    "with open(f\"{train_path}/molecular_function_terms.json\") as f:\n",
    "    terms = json.load(f)\n",
    "with open(f\"{train_path}/../ic_dict.json\") as f:\n",
    "    ic_dict = json.load(f)\n",
    "term_ic = ic_mat(terms, ic_dict)"
   ]
  },
  {
   "cell_type": "code",
   "execution_count": 26,
   "metadata": {},
   "outputs": [],
   "source": [
    "from go_bench.metrics import threshold_stats\n",
    "precs, recs, f_scores, rms, mis, rus, s_vals = threshold_stats(val_labels, val_preds, term_ic)"
   ]
  },
  {
   "cell_type": "code",
   "execution_count": 27,
   "metadata": {},
   "outputs": [
    {
     "data": {
      "image/png": "[encoded data removed]",
      "text/plain": [
       "<Figure size 432x288 with 1 Axes>"
      ]
     },
     "metadata": {
      "needs_background": "light"
     },
     "output_type": "display_data"
    }
   ],
   "source": [
    "\n",
    "import matplotlib.pyplot as plt\n",
    "plt.plot(blast_precs, blast_recs)\n",
    "plt.plot(precs, recs)\n",
    "plt.title(f\"Precision-Recall\")\n",
    "plt.legend([\"BLAST\", \"Rostlab\"])\n",
    "plt.show()"
   ]
  },
  {
   "cell_type": "code",
   "execution_count": 23,
   "metadata": {},
   "outputs": [
    {
     "name": "stdout",
     "output_type": "stream",
     "text": [
      "17304 14.126444752658346\n"
     ]
    }
   ],
   "source": []
  },
  {
   "cell_type": "code",
   "execution_count": null,
   "metadata": {},
   "outputs": [],
   "source": []
  },
  {
   "cell_type": "code",
   "execution_count": 47,
   "metadata": {},
   "outputs": [
    {
     "name": "stdout",
     "output_type": "stream",
     "text": [
      "209385\n",
      "14892\n",
      "16936\n",
      "0\n",
      "48126\n"
     ]
    }
   ],
   "source": [
    "import pandas as pd\n",
    "val_hits = pd.read_csv(\"../data/blast_results/blast_hit_val.tsv\", sep='\\t', names=['Query', 'Hit', 'Score'])\n",
    "print(len(val_hits['Query']))\n",
    "print(len(set(val_hits['Query'])))\n",
    "print(len(val_dict.keys()))\n",
    "print(len(set(val_hits['Query']).intersection(val_hits['Hit'])))\n",
    "print(len(set(val_hits['Hit']).intersection(train_dict.keys())))"
   ]
  }
 ],
 "metadata": {
  "interpreter": {
   "hash": "408269ca62060850a8947a0d7a551465652cb7138ef02f7a1c955677fbaf7202"
  },
  "kernelspec": {
   "display_name": "Python 3.9.12 ('research')",
   "language": "python",
   "name": "python3"
  },
  "language_info": {
   "codemirror_mode": {
    "name": "ipython",
    "version": 3
   },
   "file_extension": ".py",
   "mimetype": "text/x-python",
   "name": "python",
   "nbconvert_exporter": "python",
   "pygments_lexer": "ipython3",
   "version": "3.9.12"
  },
  "orig_nbformat": 4,
  "vscode": {
   "interpreter": {
    "hash": "e8666030e514dcb053d4fd67fa8050177194d5f77fa2470a2a5f9877882299dd"
   }
  }
 },
 "nbformat": 4,
 "nbformat_minor": 2
}
