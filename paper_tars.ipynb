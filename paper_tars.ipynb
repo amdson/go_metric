{
 "cells": [
  {
   "cell_type": "code",
   "execution_count": 1,
   "metadata": {},
   "outputs": [],
   "source": [
    "%load_ext autoreload\n",
    "%autoreload 2"
   ]
  },
  {
   "cell_type": "code",
   "execution_count": 6,
   "metadata": {},
   "outputs": [],
   "source": [
    "import os, json\n",
    "import torch\n",
    "from torch import nn\n",
    "import torch.nn.functional as F\n",
    "from torch.utils.data import DataLoader\n",
    "import pytorch_lightning as pl\n",
    "import matplotlib.pyplot as plt\n",
    "\n",
    "import go_bench\n",
    "from go_bench.load_tools import load_GO_tsv_file, load_protein_sequences, convert_to_sparse_matrix\n",
    "\n",
    "from go_metric.data_utils import *\n",
    "from go_metric.models.bottleneck_dpg_conv import DPGModule\n",
    "from scipy.sparse import csr_matrix, csc_matrix, dok_matrix, vstack, hstack\n",
    "from sklearn.metrics import precision_recall_fscore_support"
   ]
  },
  {
   "cell_type": "code",
   "execution_count": 7,
   "metadata": {},
   "outputs": [
    {
     "name": "stdout",
     "output_type": "stream",
     "text": [
      "model loaded\n",
      "default zero\n",
      "default zero\n",
      "default zero\n",
      "default zero\n",
      "default zero\n",
      "default zero\n",
      "default zero\n",
      "default zero\n",
      "default zero\n",
      "default zero\n",
      "default zero\n",
      "default zero\n",
      "default zero\n",
      "default zero\n",
      "default zero\n",
      "default zero\n",
      "default zero\n",
      "default zero\n",
      "default zero\n",
      "default zero\n",
      "default zero\n",
      "default zero\n",
      "default zero\n",
      "default zero\n",
      "default zero\n",
      "default zero\n",
      "default zero\n",
      "default zero\n",
      "default zero\n",
      "default zero\n",
      "default zero\n",
      "default zero\n",
      "default zero\n",
      "default zero\n",
      "default zero\n",
      "default zero\n",
      "default zero\n",
      "default zero\n",
      "default zero\n",
      "default zero\n",
      "default zero\n",
      "default zero\n",
      "default zero\n",
      "default zero\n",
      "default zero\n",
      "default zero\n",
      "default zero\n",
      "default zero\n",
      "default zero\n"
     ]
    }
   ],
   "source": [
    "from go_metric.models.tars_model import TARSModule\n",
    "model = TARSModule.load_from_checkpoint(\"checkpoints/tars-model-v2.ckpt\")\n",
    "model.eval()\n",
    "device = torch.device('cuda:0')\n",
    "model.to(device)\n",
    "print(\"model loaded\")\n",
    "\n",
    "#Load OWL embeddings\n",
    "import pickle\n",
    "with open(\"/home/andrew/go_metric/data/owl_emb/3-L-R-2-50\", \"rb\") as f:\n",
    "    embeddings = pickle.load(f, encoding=\"bytes\")\n",
    "owl_terms = [a[0].split(r'/')[-1].replace(\"_\", \":\") for a in embeddings]\n",
    "owl_mat = np.array([a[1] for a in embeddings])\n",
    "import json\n",
    "train_path = \"/home/andrew/go_metric/data/go_bench\"\n",
    "with open(f\"{train_path}/molecular_function_terms.json\") as f:\n",
    "    train_terms = json.load(f)\n",
    "with open(f\"{train_path}/testing_molecular_function_terms.json\") as f:\n",
    "    test_terms = json.load(f)\n",
    "go_emb = torch.FloatTensor(map_embeddings(train_terms, owl_terms, owl_mat))\n",
    "test_go_emb = torch.FloatTensor(map_embeddings(test_terms, owl_terms, owl_mat))"
   ]
  },
  {
   "cell_type": "code",
   "execution_count": 8,
   "metadata": {},
   "outputs": [],
   "source": [
    "train_path = \"/home/andrew/go_metric/data/go_bench\"\n",
    "train_dataset = TermDataset.from_pickle(f\"{train_path}/train.pkl\")\n",
    "val_dataset = TermDataset.from_pickle(f\"{train_path}/val.pkl\")\n",
    "test_dataset = TermDataset.from_pickle(f\"{train_path}/val.pkl\")\n",
    "\n",
    "\n",
    "collate_seqs = get_bert_seq_collator(max_length=1024, add_special_tokens=False)\n",
    "dataloader_params = {\"shuffle\": False, \"batch_size\": 256, \"collate_fn\":collate_seqs}\n",
    "val_dataloader_params = {\"shuffle\": False, \"batch_size\": 256, \"collate_fn\":collate_seqs}\n",
    "\n",
    "train_loader = DataLoader(train_dataset.seq_dataset, **dataloader_params)\n",
    "val_loader = DataLoader(val_dataset.seq_dataset, **val_dataloader_params)\n",
    "test_loader = DataLoader(test_dataset.seq_dataset, **val_dataloader_params)"
   ]
  },
  {
   "cell_type": "code",
   "execution_count": 9,
   "metadata": {},
   "outputs": [],
   "source": [
    "def get_tars_preds(tars_model, dataloader, term_emb, threshold=0.02):\n",
    "    device = tars_model.device\n",
    "    term_emb = term_emb.to(device)\n",
    "    prot_ids = []\n",
    "    probs_list = []\n",
    "    with torch.no_grad():\n",
    "        for d in dataloader:\n",
    "            prot_id_l = d[\"prot_id\"]\n",
    "            X = d[\"seq\"]\n",
    "            mask = d[\"mask\"] \n",
    "            prot_ids.extend(prot_id_l)\n",
    "            X = X.to(device)\n",
    "            mask = mask.to(device)\n",
    "            # print(X.shape, mask.shape)\n",
    "            te = torch.tile(term_emb.view(1, -1), (X.shape[0], 1))\n",
    "            # print(te.shape)\n",
    "            m_probs = tars_model.forward(X, mask, te)\n",
    "            m_probs = torch.softmax(m_probs, dim=1)\n",
    "            m_probs = m_probs.cpu().numpy()\n",
    "            m_probs = np.where(m_probs > threshold, m_probs, 0) #Threshold unlikely predictions to keep output sparse. \n",
    "            probs_list.append(m_probs)\n",
    "    probs = np.concatenate(probs_list, axis=0)\n",
    "    return prot_ids, probs\n",
    "\n",
    "term_id = 100\n",
    "term_emb = go_emb[term_id]\n",
    "prot_ids, probs = get_tars_preds(model, val_loader, term_emb)"
   ]
  },
  {
   "cell_type": "code",
   "execution_count": 11,
   "metadata": {},
   "outputs": [],
   "source": [
    "# term_ids = [1, 3, 7, 10, 20, 30, 40, 55, 70, 80, 100, 130, 150, 200, 250, 300, 350, 400, 500, 600]\n",
    "term_ids = [10, 70, 570]\n",
    "term_probs = []\n",
    "for term_id in term_ids:\n",
    "    term_emb = go_emb[term_id]\n",
    "    prot_ids, probs = get_tars_preds(model, val_loader, term_emb)\n",
    "    term_probs.append(probs[:, 1:])\n",
    "term_probs = np.concatenate(term_probs, axis=1)\n",
    "\n",
    "# term_ids = list(range(300, 3000, 100))\n",
    "# term_probs = []\n",
    "# for term_id in term_ids:\n",
    "#     term_emb = test_go_emb[term_id]\n",
    "#     prot_ids, probs = get_tars_preds(model, val_loader, term_emb)\n",
    "#     term_probs.append(probs[:, 1:])\n",
    "# term_probs = np.concatenate(term_probs, axis=1)"
   ]
  },
  {
   "cell_type": "code",
   "execution_count": 14,
   "metadata": {},
   "outputs": [],
   "source": [
    "def get_sparse_probs(model, dataloader, threshold=0.02):\n",
    "    prot_ids = []\n",
    "    probs_list = []\n",
    "    with torch.no_grad():\n",
    "        for d in dataloader:\n",
    "            prot_id_l = d[\"prot_id\"]\n",
    "            X = d[\"seq\"]\n",
    "            prot_ids.extend(prot_id_l)\n",
    "            X = X.to(device)\n",
    "            m_probs = model(X)\n",
    "            torch.sigmoid(m_probs, out=m_probs)\n",
    "            m_probs = m_probs.cpu().numpy()\n",
    "            m_probs = np.where(m_probs > threshold, m_probs, 0) #Threshold unlikely predictions to keep output sparse. \n",
    "            new_probs = csr_matrix(m_probs, dtype=np.float32)\n",
    "            probs_list.append(new_probs)\n",
    "    probs = vstack(probs_list)\n",
    "    return prot_ids, probs"
   ]
  },
  {
   "cell_type": "code",
   "execution_count": null,
   "metadata": {},
   "outputs": [],
   "source": [
    "from go_metric.models.bottleneck_dpg_conv import DPGModule\n",
    "model = DPGModule.load_from_checkpoint(\"checkpoints/bottleneck_128.ckpt\")\n",
    "model.eval()\n",
    "device = torch.device('cuda:1')\n",
    "model.to(device)"
   ]
  },
  {
   "cell_type": "code",
   "execution_count": 26,
   "metadata": {},
   "outputs": [],
   "source": [
    "# test_ids, test_probs = get_sparse_probs(model, test_loader)\n",
    "ml_val_ids, ml_val_probs = get_sparse_probs(model, val_loader)\n",
    "ml_val_sample_probs = ml_val_probs[:, term_ids].toarray()"
   ]
  },
  {
   "cell_type": "code",
   "execution_count": 27,
   "metadata": {},
   "outputs": [
    {
     "data": {
      "image/png": "[encoded data removed]",
      "text/plain": [
       "<Figure size 640x480 with 1 Axes>"
      ]
     },
     "metadata": {},
     "output_type": "display_data"
    }
   ],
   "source": [
    "from sklearn.metrics import f1_score\n",
    "labels = val_dataset.seq_dataset.labels.toarray()\n",
    "preds_dict = {\"Tars\": term_probs, \"MultiL\": ml_val_sample_probs, \"Baseline\": np.ones(term_probs.shape)}\n",
    "\n",
    "preds_f1 = {key: [] for key in preds_dict.keys()}\n",
    "for mkey, preds in preds_dict.items():\n",
    "    for i, term_id in enumerate(term_ids):\n",
    "        term_labels = labels[:, term_id]\n",
    "        f1 = f1_score(term_labels, preds[:, i] > 0.2)\n",
    "        preds_f1[mkey].append(f1)\n",
    "\n",
    "term_frequencies = train_dataset.seq_dataset.labels.toarray().sum(axis=0)\n",
    "for mkey, mf1 in preds_f1.items():\n",
    "    plt.plot(term_frequencies[term_ids], mf1)\n",
    "plt.legend(preds_dict.keys())\n",
    "plt.xscale('log')\n",
    "plt.show()"
   ]
  },
  {
   "cell_type": "code",
   "execution_count": 24,
   "metadata": {},
   "outputs": [
    {
     "ename": "TypeError",
     "evalue": "A sparse matrix was passed, but dense data is required. Use X.toarray() to convert to a dense numpy array.",
     "output_type": "error",
     "traceback": [
      "\u001b[0;31m---------------------------------------------------------------------------\u001b[0m",
      "\u001b[0;31mTypeError\u001b[0m                                 Traceback (most recent call last)",
      "Cell \u001b[0;32mIn[24], line 5\u001b[0m\n\u001b[1;32m      3\u001b[0m     \u001b[39mfor\u001b[39;00m i, term_id \u001b[39min\u001b[39;00m \u001b[39menumerate\u001b[39m(term_ids):\n\u001b[1;32m      4\u001b[0m         term_labels \u001b[39m=\u001b[39m labels[:, term_id]\n\u001b[0;32m----> 5\u001b[0m         f1 \u001b[39m=\u001b[39m f1_score(term_labels, preds[:, i] \u001b[39m>\u001b[39;49m \u001b[39m0.2\u001b[39;49m)\n\u001b[1;32m      6\u001b[0m         preds_f1[mkey]\u001b[39m.\u001b[39mappend(f1)\n\u001b[1;32m      8\u001b[0m term_frequencies \u001b[39m=\u001b[39m train_dataset\u001b[39m.\u001b[39mseq_dataset\u001b[39m.\u001b[39mlabels\u001b[39m.\u001b[39mtoarray()\u001b[39m.\u001b[39msum(axis\u001b[39m=\u001b[39m\u001b[39m0\u001b[39m)\n",
      "File \u001b[0;32m~/anaconda3/envs/research/lib/python3.9/site-packages/sklearn/metrics/_classification.py:1146\u001b[0m, in \u001b[0;36mf1_score\u001b[0;34m(y_true, y_pred, labels, pos_label, average, sample_weight, zero_division)\u001b[0m\n\u001b[1;32m   1011\u001b[0m \u001b[39mdef\u001b[39;00m \u001b[39mf1_score\u001b[39m(\n\u001b[1;32m   1012\u001b[0m     y_true,\n\u001b[1;32m   1013\u001b[0m     y_pred,\n\u001b[0;32m   (...)\u001b[0m\n\u001b[1;32m   1019\u001b[0m     zero_division\u001b[39m=\u001b[39m\u001b[39m\"\u001b[39m\u001b[39mwarn\u001b[39m\u001b[39m\"\u001b[39m,\n\u001b[1;32m   1020\u001b[0m ):\n\u001b[1;32m   1021\u001b[0m     \u001b[39m\"\"\"Compute the F1 score, also known as balanced F-score or F-measure.\u001b[39;00m\n\u001b[1;32m   1022\u001b[0m \n\u001b[1;32m   1023\u001b[0m \u001b[39m    The F1 score can be interpreted as a harmonic mean of the precision and\u001b[39;00m\n\u001b[0;32m   (...)\u001b[0m\n\u001b[1;32m   1144\u001b[0m \u001b[39m    array([0.66666667, 1.        , 0.66666667])\u001b[39;00m\n\u001b[1;32m   1145\u001b[0m \u001b[39m    \"\"\"\u001b[39;00m\n\u001b[0;32m-> 1146\u001b[0m     \u001b[39mreturn\u001b[39;00m fbeta_score(\n\u001b[1;32m   1147\u001b[0m         y_true,\n\u001b[1;32m   1148\u001b[0m         y_pred,\n\u001b[1;32m   1149\u001b[0m         beta\u001b[39m=\u001b[39;49m\u001b[39m1\u001b[39;49m,\n\u001b[1;32m   1150\u001b[0m         labels\u001b[39m=\u001b[39;49mlabels,\n\u001b[1;32m   1151\u001b[0m         pos_label\u001b[39m=\u001b[39;49mpos_label,\n\u001b[1;32m   1152\u001b[0m         average\u001b[39m=\u001b[39;49maverage,\n\u001b[1;32m   1153\u001b[0m         sample_weight\u001b[39m=\u001b[39;49msample_weight,\n\u001b[1;32m   1154\u001b[0m         zero_division\u001b[39m=\u001b[39;49mzero_division,\n\u001b[1;32m   1155\u001b[0m     )\n",
      "File \u001b[0;32m~/anaconda3/envs/research/lib/python3.9/site-packages/sklearn/metrics/_classification.py:1287\u001b[0m, in \u001b[0;36mfbeta_score\u001b[0;34m(y_true, y_pred, beta, labels, pos_label, average, sample_weight, zero_division)\u001b[0m\n\u001b[1;32m   1158\u001b[0m \u001b[39mdef\u001b[39;00m \u001b[39mfbeta_score\u001b[39m(\n\u001b[1;32m   1159\u001b[0m     y_true,\n\u001b[1;32m   1160\u001b[0m     y_pred,\n\u001b[0;32m   (...)\u001b[0m\n\u001b[1;32m   1167\u001b[0m     zero_division\u001b[39m=\u001b[39m\u001b[39m\"\u001b[39m\u001b[39mwarn\u001b[39m\u001b[39m\"\u001b[39m,\n\u001b[1;32m   1168\u001b[0m ):\n\u001b[1;32m   1169\u001b[0m     \u001b[39m\"\"\"Compute the F-beta score.\u001b[39;00m\n\u001b[1;32m   1170\u001b[0m \n\u001b[1;32m   1171\u001b[0m \u001b[39m    The F-beta score is the weighted harmonic mean of precision and recall,\u001b[39;00m\n\u001b[0;32m   (...)\u001b[0m\n\u001b[1;32m   1284\u001b[0m \u001b[39m    array([0.71..., 0.        , 0.        ])\u001b[39;00m\n\u001b[1;32m   1285\u001b[0m \u001b[39m    \"\"\"\u001b[39;00m\n\u001b[0;32m-> 1287\u001b[0m     _, _, f, _ \u001b[39m=\u001b[39m precision_recall_fscore_support(\n\u001b[1;32m   1288\u001b[0m         y_true,\n\u001b[1;32m   1289\u001b[0m         y_pred,\n\u001b[1;32m   1290\u001b[0m         beta\u001b[39m=\u001b[39;49mbeta,\n\u001b[1;32m   1291\u001b[0m         labels\u001b[39m=\u001b[39;49mlabels,\n\u001b[1;32m   1292\u001b[0m         pos_label\u001b[39m=\u001b[39;49mpos_label,\n\u001b[1;32m   1293\u001b[0m         average\u001b[39m=\u001b[39;49maverage,\n\u001b[1;32m   1294\u001b[0m         warn_for\u001b[39m=\u001b[39;49m(\u001b[39m\"\u001b[39;49m\u001b[39mf-score\u001b[39;49m\u001b[39m\"\u001b[39;49m,),\n\u001b[1;32m   1295\u001b[0m         sample_weight\u001b[39m=\u001b[39;49msample_weight,\n\u001b[1;32m   1296\u001b[0m         zero_division\u001b[39m=\u001b[39;49mzero_division,\n\u001b[1;32m   1297\u001b[0m     )\n\u001b[1;32m   1298\u001b[0m     \u001b[39mreturn\u001b[39;00m f\n",
      "File \u001b[0;32m~/anaconda3/envs/research/lib/python3.9/site-packages/sklearn/metrics/_classification.py:1573\u001b[0m, in \u001b[0;36mprecision_recall_fscore_support\u001b[0;34m(y_true, y_pred, beta, labels, pos_label, average, warn_for, sample_weight, zero_division)\u001b[0m\n\u001b[1;32m   1571\u001b[0m \u001b[39mif\u001b[39;00m beta \u001b[39m<\u001b[39m \u001b[39m0\u001b[39m:\n\u001b[1;32m   1572\u001b[0m     \u001b[39mraise\u001b[39;00m \u001b[39mValueError\u001b[39;00m(\u001b[39m\"\u001b[39m\u001b[39mbeta should be >=0 in the F-beta score\u001b[39m\u001b[39m\"\u001b[39m)\n\u001b[0;32m-> 1573\u001b[0m labels \u001b[39m=\u001b[39m _check_set_wise_labels(y_true, y_pred, average, labels, pos_label)\n\u001b[1;32m   1575\u001b[0m \u001b[39m# Calculate tp_sum, pred_sum, true_sum ###\u001b[39;00m\n\u001b[1;32m   1576\u001b[0m samplewise \u001b[39m=\u001b[39m average \u001b[39m==\u001b[39m \u001b[39m\"\u001b[39m\u001b[39msamples\u001b[39m\u001b[39m\"\u001b[39m\n",
      "File \u001b[0;32m~/anaconda3/envs/research/lib/python3.9/site-packages/sklearn/metrics/_classification.py:1374\u001b[0m, in \u001b[0;36m_check_set_wise_labels\u001b[0;34m(y_true, y_pred, average, labels, pos_label)\u001b[0m\n\u001b[1;32m   1371\u001b[0m \u001b[39mif\u001b[39;00m average \u001b[39mnot\u001b[39;00m \u001b[39min\u001b[39;00m average_options \u001b[39mand\u001b[39;00m average \u001b[39m!=\u001b[39m \u001b[39m\"\u001b[39m\u001b[39mbinary\u001b[39m\u001b[39m\"\u001b[39m:\n\u001b[1;32m   1372\u001b[0m     \u001b[39mraise\u001b[39;00m \u001b[39mValueError\u001b[39;00m(\u001b[39m\"\u001b[39m\u001b[39maverage has to be one of \u001b[39m\u001b[39m\"\u001b[39m \u001b[39m+\u001b[39m \u001b[39mstr\u001b[39m(average_options))\n\u001b[0;32m-> 1374\u001b[0m y_type, y_true, y_pred \u001b[39m=\u001b[39m _check_targets(y_true, y_pred)\n\u001b[1;32m   1375\u001b[0m \u001b[39m# Convert to Python primitive type to avoid NumPy type / Python str\u001b[39;00m\n\u001b[1;32m   1376\u001b[0m \u001b[39m# comparison. See https://github.com/numpy/numpy/issues/6784\u001b[39;00m\n\u001b[1;32m   1377\u001b[0m present_labels \u001b[39m=\u001b[39m unique_labels(y_true, y_pred)\u001b[39m.\u001b[39mtolist()\n",
      "File \u001b[0;32m~/anaconda3/envs/research/lib/python3.9/site-packages/sklearn/metrics/_classification.py:110\u001b[0m, in \u001b[0;36m_check_targets\u001b[0;34m(y_true, y_pred)\u001b[0m\n\u001b[1;32m    108\u001b[0m \u001b[39mif\u001b[39;00m y_type \u001b[39min\u001b[39;00m [\u001b[39m\"\u001b[39m\u001b[39mbinary\u001b[39m\u001b[39m\"\u001b[39m, \u001b[39m\"\u001b[39m\u001b[39mmulticlass\u001b[39m\u001b[39m\"\u001b[39m]:\n\u001b[1;32m    109\u001b[0m     y_true \u001b[39m=\u001b[39m column_or_1d(y_true)\n\u001b[0;32m--> 110\u001b[0m     y_pred \u001b[39m=\u001b[39m column_or_1d(y_pred)\n\u001b[1;32m    111\u001b[0m     \u001b[39mif\u001b[39;00m y_type \u001b[39m==\u001b[39m \u001b[39m\"\u001b[39m\u001b[39mbinary\u001b[39m\u001b[39m\"\u001b[39m:\n\u001b[1;32m    112\u001b[0m         \u001b[39mtry\u001b[39;00m:\n",
      "File \u001b[0;32m~/anaconda3/envs/research/lib/python3.9/site-packages/sklearn/utils/validation.py:1179\u001b[0m, in \u001b[0;36mcolumn_or_1d\u001b[0;34m(y, dtype, warn)\u001b[0m\n\u001b[1;32m   1153\u001b[0m \u001b[39m\"\"\"Ravel column or 1d numpy array, else raises an error.\u001b[39;00m\n\u001b[1;32m   1154\u001b[0m \n\u001b[1;32m   1155\u001b[0m \u001b[39mParameters\u001b[39;00m\n\u001b[0;32m   (...)\u001b[0m\n\u001b[1;32m   1176\u001b[0m \u001b[39m    If `y` is not a 1D array or a 2D array with a single row or column.\u001b[39;00m\n\u001b[1;32m   1177\u001b[0m \u001b[39m\"\"\"\u001b[39;00m\n\u001b[1;32m   1178\u001b[0m xp, _ \u001b[39m=\u001b[39m get_namespace(y)\n\u001b[0;32m-> 1179\u001b[0m y \u001b[39m=\u001b[39m check_array(\n\u001b[1;32m   1180\u001b[0m     y,\n\u001b[1;32m   1181\u001b[0m     ensure_2d\u001b[39m=\u001b[39;49m\u001b[39mFalse\u001b[39;49;00m,\n\u001b[1;32m   1182\u001b[0m     dtype\u001b[39m=\u001b[39;49mdtype,\n\u001b[1;32m   1183\u001b[0m     input_name\u001b[39m=\u001b[39;49m\u001b[39m\"\u001b[39;49m\u001b[39my\u001b[39;49m\u001b[39m\"\u001b[39;49m,\n\u001b[1;32m   1184\u001b[0m     force_all_finite\u001b[39m=\u001b[39;49m\u001b[39mFalse\u001b[39;49;00m,\n\u001b[1;32m   1185\u001b[0m     ensure_min_samples\u001b[39m=\u001b[39;49m\u001b[39m0\u001b[39;49m,\n\u001b[1;32m   1186\u001b[0m )\n\u001b[1;32m   1188\u001b[0m shape \u001b[39m=\u001b[39m y\u001b[39m.\u001b[39mshape\n\u001b[1;32m   1189\u001b[0m \u001b[39mif\u001b[39;00m \u001b[39mlen\u001b[39m(shape) \u001b[39m==\u001b[39m \u001b[39m1\u001b[39m:\n",
      "File \u001b[0;32m~/anaconda3/envs/research/lib/python3.9/site-packages/sklearn/utils/validation.py:845\u001b[0m, in \u001b[0;36mcheck_array\u001b[0;34m(array, accept_sparse, accept_large_sparse, dtype, order, copy, force_all_finite, ensure_2d, allow_nd, ensure_min_samples, ensure_min_features, estimator, input_name)\u001b[0m\n\u001b[1;32m    843\u001b[0m \u001b[39mif\u001b[39;00m sp\u001b[39m.\u001b[39missparse(array):\n\u001b[1;32m    844\u001b[0m     _ensure_no_complex_data(array)\n\u001b[0;32m--> 845\u001b[0m     array \u001b[39m=\u001b[39m _ensure_sparse_format(\n\u001b[1;32m    846\u001b[0m         array,\n\u001b[1;32m    847\u001b[0m         accept_sparse\u001b[39m=\u001b[39;49maccept_sparse,\n\u001b[1;32m    848\u001b[0m         dtype\u001b[39m=\u001b[39;49mdtype,\n\u001b[1;32m    849\u001b[0m         copy\u001b[39m=\u001b[39;49mcopy,\n\u001b[1;32m    850\u001b[0m         force_all_finite\u001b[39m=\u001b[39;49mforce_all_finite,\n\u001b[1;32m    851\u001b[0m         accept_large_sparse\u001b[39m=\u001b[39;49maccept_large_sparse,\n\u001b[1;32m    852\u001b[0m         estimator_name\u001b[39m=\u001b[39;49mestimator_name,\n\u001b[1;32m    853\u001b[0m         input_name\u001b[39m=\u001b[39;49minput_name,\n\u001b[1;32m    854\u001b[0m     )\n\u001b[1;32m    855\u001b[0m \u001b[39melse\u001b[39;00m:\n\u001b[1;32m    856\u001b[0m     \u001b[39m# If np.array(..) gives ComplexWarning, then we convert the warning\u001b[39;00m\n\u001b[1;32m    857\u001b[0m     \u001b[39m# to an error. This is needed because specifying a non complex\u001b[39;00m\n\u001b[1;32m    858\u001b[0m     \u001b[39m# dtype to the function converts complex to real dtype,\u001b[39;00m\n\u001b[1;32m    859\u001b[0m     \u001b[39m# thereby passing the test made in the lines following the scope\u001b[39;00m\n\u001b[1;32m    860\u001b[0m     \u001b[39m# of warnings context manager.\u001b[39;00m\n\u001b[1;32m    861\u001b[0m     \u001b[39mwith\u001b[39;00m warnings\u001b[39m.\u001b[39mcatch_warnings():\n",
      "File \u001b[0;32m~/anaconda3/envs/research/lib/python3.9/site-packages/sklearn/utils/validation.py:522\u001b[0m, in \u001b[0;36m_ensure_sparse_format\u001b[0;34m(spmatrix, accept_sparse, dtype, copy, force_all_finite, accept_large_sparse, estimator_name, input_name)\u001b[0m\n\u001b[1;32m    519\u001b[0m _check_large_sparse(spmatrix, accept_large_sparse)\n\u001b[1;32m    521\u001b[0m \u001b[39mif\u001b[39;00m accept_sparse \u001b[39mis\u001b[39;00m \u001b[39mFalse\u001b[39;00m:\n\u001b[0;32m--> 522\u001b[0m     \u001b[39mraise\u001b[39;00m \u001b[39mTypeError\u001b[39;00m(\n\u001b[1;32m    523\u001b[0m         \u001b[39m\"\u001b[39m\u001b[39mA sparse matrix was passed, but dense \u001b[39m\u001b[39m\"\u001b[39m\n\u001b[1;32m    524\u001b[0m         \u001b[39m\"\u001b[39m\u001b[39mdata is required. Use X.toarray() to \u001b[39m\u001b[39m\"\u001b[39m\n\u001b[1;32m    525\u001b[0m         \u001b[39m\"\u001b[39m\u001b[39mconvert to a dense numpy array.\u001b[39m\u001b[39m\"\u001b[39m\n\u001b[1;32m    526\u001b[0m     )\n\u001b[1;32m    527\u001b[0m \u001b[39melif\u001b[39;00m \u001b[39misinstance\u001b[39m(accept_sparse, (\u001b[39mlist\u001b[39m, \u001b[39mtuple\u001b[39m)):\n\u001b[1;32m    528\u001b[0m     \u001b[39mif\u001b[39;00m \u001b[39mlen\u001b[39m(accept_sparse) \u001b[39m==\u001b[39m \u001b[39m0\u001b[39m:\n",
      "\u001b[0;31mTypeError\u001b[0m: A sparse matrix was passed, but dense data is required. Use X.toarray() to convert to a dense numpy array."
     ]
    }
   ],
   "source": []
  },
  {
   "cell_type": "code",
   "execution_count": null,
   "metadata": {},
   "outputs": [],
   "source": []
  },
  {
   "cell_type": "code",
   "execution_count": 24,
   "metadata": {},
   "outputs": [
    {
     "name": "stdout",
     "output_type": "stream",
     "text": [
      "F1 Score 0.033912084083386564\n"
     ]
    }
   ],
   "source": [
    "from sklearn.metrics import f1_score\n",
    "labels = val_dataset.seq_dataset.labels.toarray()\n",
    "term_labels = labels[:, term_id].astype(int)\n",
    "f1 = f1_score(term_labels, probs[:, 1] > 0.1)\n",
    "print(\"F1 Score\", f1)"
   ]
  },
  {
   "cell_type": "code",
   "execution_count": 12,
   "metadata": {},
   "outputs": [
    {
     "data": {
      "image/png": "[encoded data removed]",
      "text/plain": [
       "<Figure size 640x480 with 1 Axes>"
      ]
     },
     "metadata": {},
     "output_type": "display_data"
    }
   ],
   "source": [
    "plt.hist(probs[:, 1])\n",
    "plt.show()"
   ]
  },
  {
   "cell_type": "code",
   "execution_count": 14,
   "metadata": {},
   "outputs": [
    {
     "name": "stdout",
     "output_type": "stream",
     "text": [
      "F1 Score 0.033908146083725256\n"
     ]
    }
   ],
   "source": [
    "f1 = f1_score(term_labels, term_labels*0+1)\n",
    "print(\"F1 Score\", f1)"
   ]
  },
  {
   "cell_type": "code",
   "execution_count": 53,
   "metadata": {},
   "outputs": [
    {
     "data": {
      "image/png": "[encoded data removed]",
      "text/plain": [
       "<Figure size 640x480 with 1 Axes>"
      ]
     },
     "metadata": {},
     "output_type": "display_data"
    }
   ],
   "source": [
    "plt.hist(probs[:, 0], bins=100)\n",
    "plt.show()"
   ]
  },
  {
   "cell_type": "code",
   "execution_count": null,
   "metadata": {},
   "outputs": [],
   "source": [
    "f1_score = "
   ]
  },
  {
   "cell_type": "code",
   "execution_count": 9,
   "metadata": {},
   "outputs": [
    {
     "data": {
      "image/png": "[encoded data removed]",
      "text/plain": [
       "<Figure size 640x480 with 1 Axes>"
      ]
     },
     "metadata": {},
     "output_type": "display_data"
    }
   ],
   "source": [
    "plt.hist(probs[:, 0], bins=100)\n",
    "plt.show()"
   ]
  },
  {
   "cell_type": "code",
   "execution_count": 12,
   "metadata": {},
   "outputs": [],
   "source": []
  },
  {
   "cell_type": "code",
   "execution_count": null,
   "metadata": {},
   "outputs": [],
   "source": []
  }
 ],
 "metadata": {
  "kernelspec": {
   "display_name": "research",
   "language": "python",
   "name": "python3"
  },
  "language_info": {
   "codemirror_mode": {
    "name": "ipython",
    "version": 3
   },
   "file_extension": ".py",
   "mimetype": "text/x-python",
   "name": "python",
   "nbconvert_exporter": "python",
   "pygments_lexer": "ipython3",
   "version": "3.9.16"
  },
  "orig_nbformat": 4,
  "vscode": {
   "interpreter": {
    "hash": "408269ca62060850a8947a0d7a551465652cb7138ef02f7a1c955677fbaf7202"
   }
  }
 },
 "nbformat": 4,
 "nbformat_minor": 2
}
