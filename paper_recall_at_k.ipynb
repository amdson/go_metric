{
 "cells": [
  {
   "cell_type": "code",
   "execution_count": 4,
   "metadata": {},
   "outputs": [],
   "source": [
    "import pickle\n",
    "\n",
    "def load_emb(fn_prefix):\n",
    "    with open(f\"{fn_prefix}_train_emb.pkl\", \"rb\") as f:\n",
    "        emb_dict = pickle.load(f)\n",
    "        train_ids, train_emb = emb_dict['prot_id'], emb_dict['embedding']\n",
    "    with open(f\"{fn_prefix}_test_emb.pkl\", \"rb\") as f:\n",
    "        emb_dict = pickle.load(f)\n",
    "        test_ids, test_emb = emb_dict['prot_id'], emb_dict['embedding']\n",
    "    return {\"train_ids\": train_ids, \"train_emb\": train_emb, \"test_ids\": test_ids, \"test_emb\": test_emb}\n",
    "\n",
    "rostlab_emb = load_emb(\"emb/rostlab\")"
   ]
  },
  {
   "cell_type": "code",
   "execution_count": 9,
   "metadata": {},
   "outputs": [],
   "source": [
    "import numpy as np\n",
    "import json, torch\n",
    "from go_metric.data_utils import *\n",
    "train_path = \"/home/andrew/go_metric/data/go_bench\"\n",
    "train_dataset = BertSeqDataset.from_pickle(f\"{train_path}/train.pkl\")\n",
    "val_dataset = BertSeqDataset.from_pickle(f\"{train_path}/val.pkl\")\n",
    "test_dataset = BertSeqDataset.from_memory(\"data/go_bench/testing_molecular_function_annotations.tsv\", \n",
    "                                            \"data/go_bench/molecular_function_terms.json\", \n",
    "                                            \"data/uniprot_reviewed.fasta\")\n",
    "test_dataset.to_pickle(f\"{train_path}/test.pkl\")"
   ]
  },
  {
   "cell_type": "code",
   "execution_count": null,
   "metadata": {},
   "outputs": [],
   "source": [
    "import faiss\n",
    "def embedding_knn(db_emb, q_emb, db_labels, k=100):\n",
    "    n_train, dim = db_emb.shape\n",
    "    index = faiss.IndexFlatL2(dim)\n",
    "    index.add(db_emb)\n",
    "    distances, neighbors = index.search(q_emb, k)\n",
    "    # matches = knn(db_emb, q_emb, k).cpu().numpy() # 2 x N*K\n",
    "    # distances, neighbors = distances.numpy(), neighbors.numpy()\n",
    "    q_labels = np.zeros((q_emb.shape[0], db_labels.shape[1]), dtype=float)\n",
    "    for i in range(q_emb.shape[0]):\n",
    "        db_res = neighbors[i]\n",
    "        db_avg = db_labels[db_res].sum(axis=0) / k\n",
    "        q_labels[i] = db_avg\n",
    "    return q_labels\n"
   ]
  }
 ],
 "metadata": {
  "kernelspec": {
   "display_name": "research",
   "language": "python",
   "name": "python3"
  },
  "language_info": {
   "codemirror_mode": {
    "name": "ipython",
    "version": 3
   },
   "file_extension": ".py",
   "mimetype": "text/x-python",
   "name": "python",
   "nbconvert_exporter": "python",
   "pygments_lexer": "ipython3",
   "version": "3.9.16"
  },
  "orig_nbformat": 4
 },
 "nbformat": 4,
 "nbformat_minor": 2
}
